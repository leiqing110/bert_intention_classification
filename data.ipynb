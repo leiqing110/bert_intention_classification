{
 "cells": [
  {
   "cell_type": "code",
   "execution_count": 55,
   "metadata": {},
   "outputs": [
    {
     "data": {
      "text/plain": [
       "1000"
      ]
     },
     "execution_count": 55,
     "metadata": {},
     "output_type": "execute_result"
    }
   ],
   "source": [
    "from concurrent.futures.thread import _threads_queues\n",
    "from doctest import DocTestParser\n",
    "import pandas as pd\n",
    "df = pd.read_csv('test_res.txt',sep='\\t',dtype=str)\n",
    "pred_list = df['pred'].to_list()\n",
    "true_list = df['label'].to_list()\n",
    "# len(true_list)"
   ]
  },
  {
   "cell_type": "code",
   "execution_count": 56,
   "metadata": {},
   "outputs": [],
   "source": [
    "num_classes = 54\n",
    "labels = []\n",
    "X = [0] * num_classes\n",
    "Y = [0] * num_classes\n",
    "Z = [0] * num_classes\n",
    "\n",
    "for i in range(0, num_classes):\n",
    "\t\tlabels.append(str(i))\n",
    "\n",
    "for i,pred in enumerate(pred_list):\n",
    "    true = true_list[i]\n",
    "    for m in range(len(labels)):\n",
    "        tmp = labels[m]\n",
    "        # 当前类别同时满足 在当前数据的pred 和true，即为TP\n",
    "        if tmp == pred and tmp == true:\n",
    "            # TP\n",
    "            X[m] = X[m] + 1\n",
    "        # 当前类别在预测数据当中，即为TP+FP\n",
    "        if tmp == pred:\n",
    "            # TP+FP\n",
    "            Y[m] = Y[m] + 1\n",
    "        # 当前数据在真实数据当中为TP+FN\n",
    "        if tmp == true:\n",
    "            # TP+FN\n",
    "            Z[m] = Z[m] + 1\n"
   ]
  },
  {
   "cell_type": "code",
   "execution_count": 57,
   "metadata": {},
   "outputs": [
    {
     "name": "stdout",
     "output_type": "stream",
     "text": [
      "class: 0,X:1,Y,3,Z:4,f1: 0.28571, precision: 0.33333, recall: 0.25000\n",
      "\n",
      "class: 1,X:3,Y,6,Z:7,f1: 0.46154, precision: 0.50000, recall: 0.42857\n",
      "\n",
      "class: 2,X:1,Y,1,Z:3,f1: 0.50000, precision: 1.00000, recall: 0.33333\n",
      "\n",
      "4 0 0 0\n",
      "5 0 0 0\n",
      "class: 5,X:2,Y,4,Z:28,f1: 0.12500, precision: 0.50000, recall: 0.07143\n",
      "\n",
      "class: 6,X:0,Y,7,Z:4,f1: 0.00000, precision: 0.00000, recall: 0.00000\n",
      "\n",
      "class: 7,X:9,Y,13,Z:18,f1: 0.58065, precision: 0.69231, recall: 0.50000\n",
      "\n",
      "class: 8,X:1,Y,4,Z:1,f1: 0.40000, precision: 0.25000, recall: 1.00000\n",
      "\n",
      "class: 9,X:185,Y,257,Z:217,f1: 0.78059, precision: 0.71984, recall: 0.85253\n",
      "\n",
      "class: 10,X:2,Y,2,Z:4,f1: 0.66667, precision: 1.00000, recall: 0.50000\n",
      "\n",
      "12 0 0 0\n",
      "13 0 0 0\n",
      "14 0 0 0\n",
      "class: 14,X:227,Y,249,Z:263,f1: 0.88672, precision: 0.91165, recall: 0.86312\n",
      "\n",
      "class: 15,X:332,Y,405,Z:372,f1: 0.85457, precision: 0.81975, recall: 0.89247\n",
      "\n",
      "17 0 0 4\n",
      "class: 17,X:3,Y,9,Z:6,f1: 0.40000, precision: 0.33333, recall: 0.50000\n",
      "\n",
      "19 0 0 4\n",
      "class: 19,X:2,Y,5,Z:23,f1: 0.14286, precision: 0.40000, recall: 0.08696\n",
      "\n",
      "21 0 0 0\n",
      "22 0 0 0\n",
      "23 0 0 0\n",
      "class: 23,X:3,Y,3,Z:5,f1: 0.75000, precision: 1.00000, recall: 0.60000\n",
      "\n",
      "25 0 0 0\n",
      "26 0 0 0\n",
      "class: 26,X:1,Y,1,Z:2,f1: 0.66667, precision: 1.00000, recall: 0.50000\n",
      "\n",
      "28 0 0 0\n",
      "29 0 0 0\n",
      "30 0 0 1\n",
      "31 0 0 9\n",
      "class: 31,X:1,Y,16,Z:1,f1: 0.11765, precision: 0.06250, recall: 1.00000\n",
      "\n",
      "33 0 0 1\n",
      "34 0 1 0\n",
      "35 0 0 1\n",
      "36 0 0 0\n",
      "class: 36,X:6,Y,10,Z:6,f1: 0.75000, precision: 0.60000, recall: 1.00000\n",
      "\n",
      "38 0 0 0\n",
      "39 0 0 0\n",
      "40 0 0 0\n",
      "41 0 0 0\n",
      "42 0 0 0\n",
      "43 0 0 0\n",
      "44 0 0 2\n",
      "45 0 2 0\n",
      "46 0 0 0\n",
      "47 0 0 0\n",
      "class: 47,X:0,Y,1,Z:1,f1: 0.00000, precision: 0.00000, recall: 0.00000\n",
      "\n",
      "49 0 0 0\n",
      "50 0 1 0\n",
      "51 0 0 1\n",
      "52 0 0 0\n",
      "53 0 0 0\n",
      "54 0 0 12\n",
      "四大类: total,X:754,Y,928,Z:871,f1: 0.83824, precision: 0.81250, recall: 0.86567\n",
      "\n",
      "total: total,X:779,Y,1000,Z:1000,f1: 0.77900, precision: 0.77900, recall: 0.77900\n"
     ]
    }
   ],
   "source": [
    "with open('result0816.txt',encoding='utf-8',mode='w') as fout:\n",
    "    for n in range(len(labels)):\n",
    "        if Z[n] == 0 or Y[n] == 0:\n",
    "            print(n + 1, X[n], Y[n], Z[n])\n",
    "            fout.write('class: %s,X:%d,Y:%d,Z:%d\\n' % (str(n), X[n], Y[n], Z[n]))\n",
    "            continue\n",
    "        f1, precision, recall = 2 * X[n] / (Y[n] + Z[n]), X[n] / Y[n], X[n] / Z[n]\n",
    "        fout.write('class: %s,X:%d,Y,%d,Z:%d,f1: %.5f, precision: %.5f, recall: %.5f\\n' % (\n",
    "            str(n), X[n], Y[n], Z[n], f1, precision, recall))\n",
    "        print('class: %s,X:%d,Y,%d,Z:%d,f1: %.5f, precision: %.5f, recall: %.5f\\n' % (\n",
    "            str(n), X[n], Y[n], Z[n], f1, precision, recall))\n",
    "    # label = \"339\"\n",
    "    f1, precision, recall = 2 * sum(X) / (sum(Y) + sum(Z)), sum(X) / sum(Y), sum(X) / sum(Z)\n",
    "    fout.write('total: %s,X:%d,Y,%d,Z:%d,f1: %.5f, precision: %.5f, recall: %.5f\\n' % (\n",
    "        \"total\", sum(X), sum(Y), sum(Z), f1, precision, recall))\n",
    "\n",
    "    # 实体四大类计算\n",
    "    x_4 = X[7] + X[8] + X[9] + X[14] + X[15]\n",
    "    y_4 = Y[7] + Y[8] + Y[9] + Y[14] + Y[15]\n",
    "    z_4 = Z[7] + Z[8] + Z[9] + Z[14] + Z[15]\n",
    "    # if not new_model:\n",
    "    #     x_4 += X[16]\n",
    "    #     y_4 += Y[16]\n",
    "    #     z_4 += Z[16]\n",
    "    f1_4, precision_4, recall_4 = 2 * x_4 / (y_4 + z_4), x_4 / y_4, x_4 / z_4\n",
    "    print('四大类: %s,X:%d,Y,%d,Z:%d,f1: %.5f, precision: %.5f, recall: %.5f\\n' % (\n",
    "        \"total\", x_4, y_4, z_4, f1_4, precision_4, recall_4))\n",
    "    print('total: %s,X:%d,Y,%d,Z:%d,f1: %.5f, precision: %.5f, recall: %.5f' % (\n",
    "        \"total\", sum(X), sum(Y), sum(Z), f1, precision, recall))\n",
    "    fout.write('四大类: %s,X:%d,Y,%d,Z:%d,f1: %.5f, precision: %.5f, recall: %.5f\\n' % (\n",
    "        \"total\", x_4, y_4, z_4, f1_4, precision_4, recall_4))"
   ]
  },
  {
   "cell_type": "code",
   "execution_count": 41,
   "metadata": {},
   "outputs": [
    {
     "data": {
      "text/plain": [
       "1"
      ]
     },
     "execution_count": 41,
     "metadata": {},
     "output_type": "execute_result"
    }
   ],
   "source": []
  },
  {
   "cell_type": "markdown",
   "metadata": {},
   "source": [
    "## 添加实体名称"
   ]
  },
  {
   "cell_type": "code",
   "execution_count": 9,
   "metadata": {},
   "outputs": [
    {
     "data": {
      "text/html": [
       "<div>\n",
       "<style scoped>\n",
       "    .dataframe tbody tr th:only-of-type {\n",
       "        vertical-align: middle;\n",
       "    }\n",
       "\n",
       "    .dataframe tbody tr th {\n",
       "        vertical-align: top;\n",
       "    }\n",
       "\n",
       "    .dataframe thead th {\n",
       "        text-align: right;\n",
       "    }\n",
       "</style>\n",
       "<table border=\"1\" class=\"dataframe\">\n",
       "  <thead>\n",
       "    <tr style=\"text-align: right;\">\n",
       "      <th></th>\n",
       "      <th>0</th>\n",
       "      <th>1</th>\n",
       "      <th>2</th>\n",
       "      <th>3</th>\n",
       "    </tr>\n",
       "  </thead>\n",
       "  <tbody>\n",
       "    <tr>\n",
       "      <th>0</th>\n",
       "      <td>none$$$none$$$none</td>\n",
       "      <td>none$$$none$$$none</td>\n",
       "      <td>兰德酷路泽$$$宋plus$$$none</td>\n",
       "      <td>none$$$none$$$none$$$none$$$none</td>\n",
       "    </tr>\n",
       "    <tr>\n",
       "      <th>1</th>\n",
       "      <td>none$$$none$$$none</td>\n",
       "      <td>none$$$none$$$none</td>\n",
       "      <td>none$$$none$$$none</td>\n",
       "      <td>none$$$none$$$none$$$none$$$none</td>\n",
       "    </tr>\n",
       "    <tr>\n",
       "      <th>2</th>\n",
       "      <td>none$$$none$$$none</td>\n",
       "      <td>none$$$none$$$none</td>\n",
       "      <td>none$$$none$$$none</td>\n",
       "      <td>途昂@@@2022款 530 v6 四驱尊崇豪华版$$$途昂@@@2022款 530 v6 ...</td>\n",
       "    </tr>\n",
       "    <tr>\n",
       "      <th>3</th>\n",
       "      <td>奇瑞汽车$$$none$$$none</td>\n",
       "      <td>奇瑞$$$none$$$none</td>\n",
       "      <td>瑞虎7 plus$$$none$$$none</td>\n",
       "      <td>none$$$none$$$none$$$none$$$none</td>\n",
       "    </tr>\n",
       "    <tr>\n",
       "      <th>4</th>\n",
       "      <td>丰田(进口)$$$none$$$none</td>\n",
       "      <td>丰田$$$none$$$none</td>\n",
       "      <td>卡罗拉cross(进口)$$$none$$$none</td>\n",
       "      <td>none$$$none$$$none$$$none$$$none</td>\n",
       "    </tr>\n",
       "    <tr>\n",
       "      <th>...</th>\n",
       "      <td>...</td>\n",
       "      <td>...</td>\n",
       "      <td>...</td>\n",
       "      <td>...</td>\n",
       "    </tr>\n",
       "    <tr>\n",
       "      <th>69734</th>\n",
       "      <td>none$$$none$$$none</td>\n",
       "      <td>none$$$none$$$none</td>\n",
       "      <td>御捷e驰$$$none$$$none</td>\n",
       "      <td>none$$$none$$$none$$$none$$$none</td>\n",
       "    </tr>\n",
       "    <tr>\n",
       "      <th>69735</th>\n",
       "      <td>none$$$none$$$none</td>\n",
       "      <td>日产$$$none$$$none</td>\n",
       "      <td>天籁$$$none$$$none</td>\n",
       "      <td>none$$$none$$$none$$$none$$$none</td>\n",
       "    </tr>\n",
       "    <tr>\n",
       "      <th>69736</th>\n",
       "      <td>none$$$none$$$none</td>\n",
       "      <td>奔驰$$$none$$$none</td>\n",
       "      <td>奔驰c级amg$$$none$$$none</td>\n",
       "      <td>none$$$none$$$none$$$none$$$none</td>\n",
       "    </tr>\n",
       "    <tr>\n",
       "      <th>69737</th>\n",
       "      <td>none$$$none$$$none</td>\n",
       "      <td>none$$$none$$$none</td>\n",
       "      <td>奥迪a6l$$$none$$$none</td>\n",
       "      <td>奥迪a6l@@@2023款 40 tfsi 豪华致雅型$$$奥迪a6l@@@2023款 40...</td>\n",
       "    </tr>\n",
       "    <tr>\n",
       "      <th>69738</th>\n",
       "      <td>none$$$none$$$none</td>\n",
       "      <td>英菲尼迪$$$none$$$none</td>\n",
       "      <td>英菲尼迪q60$$$none$$$none</td>\n",
       "      <td>none$$$none$$$none$$$none$$$none</td>\n",
       "    </tr>\n",
       "  </tbody>\n",
       "</table>\n",
       "<p>69739 rows × 4 columns</p>\n",
       "</div>"
      ],
      "text/plain": [
       "                          0                   1                           2  \\\n",
       "0        none$$$none$$$none  none$$$none$$$none        兰德酷路泽$$$宋plus$$$none   \n",
       "1        none$$$none$$$none  none$$$none$$$none          none$$$none$$$none   \n",
       "2        none$$$none$$$none  none$$$none$$$none          none$$$none$$$none   \n",
       "3        奇瑞汽车$$$none$$$none    奇瑞$$$none$$$none      瑞虎7 plus$$$none$$$none   \n",
       "4      丰田(进口)$$$none$$$none    丰田$$$none$$$none  卡罗拉cross(进口)$$$none$$$none   \n",
       "...                     ...                 ...                         ...   \n",
       "69734    none$$$none$$$none  none$$$none$$$none          御捷e驰$$$none$$$none   \n",
       "69735    none$$$none$$$none    日产$$$none$$$none            天籁$$$none$$$none   \n",
       "69736    none$$$none$$$none    奔驰$$$none$$$none       奔驰c级amg$$$none$$$none   \n",
       "69737    none$$$none$$$none  none$$$none$$$none         奥迪a6l$$$none$$$none   \n",
       "69738    none$$$none$$$none  英菲尼迪$$$none$$$none       英菲尼迪q60$$$none$$$none   \n",
       "\n",
       "                                                       3  \n",
       "0                       none$$$none$$$none$$$none$$$none  \n",
       "1                       none$$$none$$$none$$$none$$$none  \n",
       "2      途昂@@@2022款 530 v6 四驱尊崇豪华版$$$途昂@@@2022款 530 v6 ...  \n",
       "3                       none$$$none$$$none$$$none$$$none  \n",
       "4                       none$$$none$$$none$$$none$$$none  \n",
       "...                                                  ...  \n",
       "69734                   none$$$none$$$none$$$none$$$none  \n",
       "69735                   none$$$none$$$none$$$none$$$none  \n",
       "69736                   none$$$none$$$none$$$none$$$none  \n",
       "69737  奥迪a6l@@@2023款 40 tfsi 豪华致雅型$$$奥迪a6l@@@2023款 40...  \n",
       "69738                   none$$$none$$$none$$$none$$$none  \n",
       "\n",
       "[69739 rows x 4 columns]"
      ]
     },
     "execution_count": 9,
     "metadata": {},
     "output_type": "execute_result"
    }
   ],
   "source": [
    "# entity\n",
    "import pandas as pd\n",
    "max_seg_word = '###'\n",
    "min_seg_word = '$$$'\n",
    "\n",
    "df = pd.read_csv('entity/train_data.txt',sep='\\t',dtype=str,names = ['query','entity','label'])\n",
    "df_query = df['query']\n",
    "df_entity = df['entity']\n",
    "# for entity in entity_list:\n",
    "#     entity_token = []\n",
    "#     for s in entity.split(max_seg_word):\n",
    "#         for c in s.split(min_seg_word):\n",
    "#             token\n",
    "tmp_df = df['entity'].str.split(max_seg_word,expand=True)\n",
    "tmp_df"
   ]
  },
  {
   "cell_type": "code",
   "execution_count": 10,
   "metadata": {},
   "outputs": [],
   "source": [
    "tmp_df[0].str.split('$$$',expand=True)\n",
    "res_final = []\n",
    "for i in range(4):\n",
    "    tem_res = []\n",
    "    li = tmp_df[i].tolist()\n",
    "    for i in li:\n",
    "        res = i.split(min_seg_word)\n",
    "        str_res = ''.join(res)\n",
    "        tem_res.append(str_res)\n",
    "    res_final.append(tem_res)\n",
    "df['sep1'] = pd.Series(res_final[0])\n",
    "df['sep2'] = pd.Series(res_final[1])\n",
    "df['sep3'] = pd.Series(res_final[2])\n",
    "df['sep4'] = pd.Series(res_final[3])"
   ]
  },
  {
   "cell_type": "code",
   "execution_count": 11,
   "metadata": {},
   "outputs": [
    {
     "data": {
      "text/plain": [
       "0                                               兰德酷路泽宋plus\n",
       "1                                                         \n",
       "2        途昂@@@2022款 530 v6 四驱尊崇豪华版途昂@@@2022款 530 v6 四驱尊...\n",
       "3                                           奇瑞汽车奇瑞瑞虎7 plus\n",
       "4                                     丰田(进口)丰田卡罗拉cross(进口)\n",
       "                               ...                        \n",
       "69734                                                 御捷e驰\n",
       "69735                                                 日产天籁\n",
       "69736                                            奔驰奔驰c级amg\n",
       "69737    奥迪a6l奥迪a6l@@@2023款 40 tfsi 豪华致雅型奥迪a6l@@@2023款 ...\n",
       "69738                                          英菲尼迪英菲尼迪q60\n",
       "Name: entity_final, Length: 69739, dtype: object"
      ]
     },
     "execution_count": 11,
     "metadata": {},
     "output_type": "execute_result"
    }
   ],
   "source": [
    "# df = pd.read_csv('entity/train_data.txt',sep='\\t',dtype=str,names = ['query','label'])\n",
    "def replace_none(x):\n",
    "    x = x.replace('none','')\n",
    "    return x\n",
    "tmp_df = df['sep1'].str.cat(df['sep2'])\n",
    "tmp_df = tmp_df.str.cat(df['sep3'])\n",
    "df['entity_final'] = tmp_df.str.cat(df['sep4'])\n",
    "df['entity_final'] = df['entity_final'].apply(replace_none)\n",
    "df['entity_final']"
   ]
  },
  {
   "cell_type": "code",
   "execution_count": 16,
   "metadata": {},
   "outputs": [
    {
     "data": {
      "text/plain": [
       "0.17912502330116578"
      ]
     },
     "execution_count": 16,
     "metadata": {},
     "output_type": "execute_result"
    }
   ],
   "source": [
    "# 计算实体数据为空的比例\n",
    "none_num=(df['entity_final']=='').sum()\n",
    "none_num/df.shape[0]"
   ]
  },
  {
   "cell_type": "code",
   "execution_count": 12,
   "metadata": {},
   "outputs": [
    {
     "data": {
      "text/plain": [
       "0                                 巡洋舰和宋plus[SEP]兰德酷路泽宋plus\n",
       "1                                               dctk3[SEP]\n",
       "2        530 v6teramont[SEP]途昂@@@2022款 530 v6 四驱尊崇豪华版途昂...\n",
       "3                          瑞虎7 plus奇瑞汽车[SEP]奇瑞汽车奇瑞瑞虎7 plus\n",
       "4             丰田(进口) 卡罗拉cross(进口)[SEP]丰田(进口)丰田卡罗拉cross(进口)\n",
       "                               ...                        \n",
       "69734                                   御捷新能源朋克汽车[SEP]御捷e驰\n",
       "69735                                      日产天籁jk[SEP]日产天籁\n",
       "69736                       梅赛德斯-amg 奔驰c级amg[SEP]奔驰奔驰c级amg\n",
       "69737    a6l40加装电尾门多少钱[SEP]奥迪a6l奥迪a6l@@@2023款 40 tfsi 豪...\n",
       "69738                     英菲尼迪q60 英菲尼迪(进口)[SEP]英菲尼迪英菲尼迪q60\n",
       "Name: query_final, Length: 69739, dtype: object"
      ]
     },
     "execution_count": 12,
     "metadata": {},
     "output_type": "execute_result"
    }
   ],
   "source": [
    "df['query_final'] = df['query'].str.cat(df['entity_final'],sep='[SEP]')\n",
    "df['query_final']"
   ]
  },
  {
   "cell_type": "code",
   "execution_count": 13,
   "metadata": {},
   "outputs": [],
   "source": [
    "df[['query_final','label']].to_csv('entity/train_data_entity_del_none.txt',index=None,header=None,sep='\\t')"
   ]
  },
  {
   "cell_type": "markdown",
   "metadata": {},
   "source": [
    "## 添加实体名2"
   ]
  },
  {
   "cell_type": "code",
   "execution_count": 21,
   "metadata": {},
   "outputs": [
    {
     "data": {
      "text/html": [
       "<div>\n",
       "<style scoped>\n",
       "    .dataframe tbody tr th:only-of-type {\n",
       "        vertical-align: middle;\n",
       "    }\n",
       "\n",
       "    .dataframe tbody tr th {\n",
       "        vertical-align: top;\n",
       "    }\n",
       "\n",
       "    .dataframe thead th {\n",
       "        text-align: right;\n",
       "    }\n",
       "</style>\n",
       "<table border=\"1\" class=\"dataframe\">\n",
       "  <thead>\n",
       "    <tr style=\"text-align: right;\">\n",
       "      <th></th>\n",
       "      <th>query</th>\n",
       "      <th>entity</th>\n",
       "      <th>label</th>\n",
       "    </tr>\n",
       "  </thead>\n",
       "  <tbody>\n",
       "    <tr>\n",
       "      <th>0</th>\n",
       "      <td>s90t8</td>\n",
       "      <td>none$$$none$$$none###none$$$none$$$none###沃尔沃s...</td>\n",
       "      <td>15</td>\n",
       "    </tr>\n",
       "    <tr>\n",
       "      <th>1</th>\n",
       "      <td>奔驰23款</td>\n",
       "      <td>none$$$none$$$none###奔驰$$$none$$$none###none$$...</td>\n",
       "      <td>14</td>\n",
       "    </tr>\n",
       "    <tr>\n",
       "      <th>2</th>\n",
       "      <td>2022款rav</td>\n",
       "      <td>none$$$none$$$none###none$$$none$$$none###rav4...</td>\n",
       "      <td>14</td>\n",
       "    </tr>\n",
       "    <tr>\n",
       "      <th>3</th>\n",
       "      <td>奔驰gle350e油电混合</td>\n",
       "      <td>none$$$none$$$none###奔驰$$$none$$$none###奔驰gle$...</td>\n",
       "      <td>15</td>\n",
       "    </tr>\n",
       "    <tr>\n",
       "      <th>4</th>\n",
       "      <td>12年q5</td>\n",
       "      <td>none$$$none$$$none###none$$$none$$$none###奥迪q5...</td>\n",
       "      <td>14</td>\n",
       "    </tr>\n",
       "    <tr>\n",
       "      <th>...</th>\n",
       "      <td>...</td>\n",
       "      <td>...</td>\n",
       "      <td>...</td>\n",
       "    </tr>\n",
       "    <tr>\n",
       "      <th>995</th>\n",
       "      <td>2015p帕萨特</td>\n",
       "      <td>none$$$none$$$none###none$$$none$$$none###帕萨特$...</td>\n",
       "      <td>14</td>\n",
       "    </tr>\n",
       "    <tr>\n",
       "      <th>996</th>\n",
       "      <td>大众大众</td>\n",
       "      <td>none$$$none$$$none###大众$$$none$$$none###none$$...</td>\n",
       "      <td>7</td>\n",
       "    </tr>\n",
       "    <tr>\n",
       "      <th>997</th>\n",
       "      <td>18年路虎揽胜</td>\n",
       "      <td>none$$$none$$$none###路虎$$$none$$$none###揽胜$$$n...</td>\n",
       "      <td>14</td>\n",
       "    </tr>\n",
       "    <tr>\n",
       "      <th>998</th>\n",
       "      <td>gls350猎装</td>\n",
       "      <td>none$$$none$$$none###none$$$none$$$none###奔驰gl...</td>\n",
       "      <td>15</td>\n",
       "    </tr>\n",
       "    <tr>\n",
       "      <th>999</th>\n",
       "      <td>cls6308</td>\n",
       "      <td>none$$$none$$$none###none$$$none$$$none###none...</td>\n",
       "      <td>14</td>\n",
       "    </tr>\n",
       "  </tbody>\n",
       "</table>\n",
       "<p>1000 rows × 3 columns</p>\n",
       "</div>"
      ],
      "text/plain": [
       "             query                                             entity label\n",
       "0            s90t8  none$$$none$$$none###none$$$none$$$none###沃尔沃s...    15\n",
       "1            奔驰23款  none$$$none$$$none###奔驰$$$none$$$none###none$$...    14\n",
       "2         2022款rav  none$$$none$$$none###none$$$none$$$none###rav4...    14\n",
       "3    奔驰gle350e油电混合  none$$$none$$$none###奔驰$$$none$$$none###奔驰gle$...    15\n",
       "4            12年q5  none$$$none$$$none###none$$$none$$$none###奥迪q5...    14\n",
       "..             ...                                                ...   ...\n",
       "995       2015p帕萨特  none$$$none$$$none###none$$$none$$$none###帕萨特$...    14\n",
       "996           大众大众  none$$$none$$$none###大众$$$none$$$none###none$$...     7\n",
       "997        18年路虎揽胜  none$$$none$$$none###路虎$$$none$$$none###揽胜$$$n...    14\n",
       "998       gls350猎装  none$$$none$$$none###none$$$none$$$none###奔驰gl...    15\n",
       "999        cls6308  none$$$none$$$none###none$$$none$$$none###none...    14\n",
       "\n",
       "[1000 rows x 3 columns]"
      ]
     },
     "execution_count": 21,
     "metadata": {},
     "output_type": "execute_result"
    }
   ],
   "source": [
    "import pandas as pd\n",
    "df2 = pd.read_csv('entity/test_data_one_label_entity.txt',sep='\\t',dtype=str,names = ['query','entity','label'])\n",
    "df2"
   ]
  },
  {
   "cell_type": "code",
   "execution_count": 22,
   "metadata": {},
   "outputs": [
    {
     "data": {
      "text/plain": [
       "0      none[unused12]none[unused12]none[unused11]none...\n",
       "1      none[unused12]none[unused12]none[unused11]奔驰[u...\n",
       "2      none[unused12]none[unused12]none[unused11]none...\n",
       "3      none[unused12]none[unused12]none[unused11]奔驰[u...\n",
       "4      none[unused12]none[unused12]none[unused11]none...\n",
       "                             ...                        \n",
       "995    none[unused12]none[unused12]none[unused11]none...\n",
       "996    none[unused12]none[unused12]none[unused11]大众[u...\n",
       "997    none[unused12]none[unused12]none[unused11]路虎[u...\n",
       "998    none[unused12]none[unused12]none[unused11]none...\n",
       "999    none[unused12]none[unused12]none[unused11]none...\n",
       "Name: entity, Length: 1000, dtype: object"
      ]
     },
     "execution_count": 22,
     "metadata": {},
     "output_type": "execute_result"
    }
   ],
   "source": [
    "def data_replace(x):\n",
    "    x = x.replace('$$$','[unused12]')\n",
    "    x = x.replace('###','[unused11]')\n",
    "    return x\n",
    "# df2['entity'] = df2['entity'].str.replace('$$$','[unused13]')\n",
    "df2['entity'] = df2['entity'].apply(data_replace)\n",
    "df2['entity']"
   ]
  },
  {
   "cell_type": "code",
   "execution_count": 24,
   "metadata": {},
   "outputs": [
    {
     "data": {
      "text/plain": [
       "0              s90t8[SEP]\n",
       "1              奔驰23款[SEP]\n",
       "2           2022款rav[SEP]\n",
       "3      奔驰gle350e油电混合[SEP]\n",
       "4              12年q5[SEP]\n",
       "              ...        \n",
       "995         2015p帕萨特[SEP]\n",
       "996             大众大众[SEP]\n",
       "997          18年路虎揽胜[SEP]\n",
       "998         gls350猎装[SEP]\n",
       "999          cls6308[SEP]\n",
       "Name: query_, Length: 1000, dtype: object"
      ]
     },
     "execution_count": 24,
     "metadata": {},
     "output_type": "execute_result"
    }
   ],
   "source": [
    "df2['query_'] = df2['query']+'[SEP]'\n",
    "df2['query_']"
   ]
  },
  {
   "cell_type": "code",
   "execution_count": 25,
   "metadata": {},
   "outputs": [],
   "source": [
    "df2['res'] = df2['query_']+df2['entity']\n",
    "df2[['res','label']].to_csv('entity/test_entity_0818.txt',index=None,header=None,sep='\\t')"
   ]
  },
  {
   "cell_type": "markdown",
   "metadata": {},
   "source": [
    "### 实体combine"
   ]
  },
  {
   "cell_type": "code",
   "execution_count": 7,
   "metadata": {},
   "outputs": [
    {
     "data": {
      "text/html": [
       "<div>\n",
       "<style scoped>\n",
       "    .dataframe tbody tr th:only-of-type {\n",
       "        vertical-align: middle;\n",
       "    }\n",
       "\n",
       "    .dataframe tbody tr th {\n",
       "        vertical-align: top;\n",
       "    }\n",
       "\n",
       "    .dataframe thead th {\n",
       "        text-align: right;\n",
       "    }\n",
       "</style>\n",
       "<table border=\"1\" class=\"dataframe\">\n",
       "  <thead>\n",
       "    <tr style=\"text-align: right;\">\n",
       "      <th></th>\n",
       "      <th>query</th>\n",
       "      <th>entity</th>\n",
       "      <th>label</th>\n",
       "    </tr>\n",
       "  </thead>\n",
       "  <tbody>\n",
       "    <tr>\n",
       "      <th>0</th>\n",
       "      <td>巡洋舰和宋plus</td>\n",
       "      <td>none$$$none$$$none###none$$$none$$$none###兰德酷路...</td>\n",
       "      <td>16</td>\n",
       "    </tr>\n",
       "    <tr>\n",
       "      <th>1</th>\n",
       "      <td>dctk3</td>\n",
       "      <td>none$$$none$$$none###none$$$none$$$none###none...</td>\n",
       "      <td>15</td>\n",
       "    </tr>\n",
       "    <tr>\n",
       "      <th>2</th>\n",
       "      <td>530 v6teramont</td>\n",
       "      <td>none$$$none$$$none###none$$$none$$$none###none...</td>\n",
       "      <td>15</td>\n",
       "    </tr>\n",
       "    <tr>\n",
       "      <th>3</th>\n",
       "      <td>瑞虎7 plus奇瑞汽车</td>\n",
       "      <td>奇瑞汽车$$$none$$$none###奇瑞$$$none$$$none###瑞虎7 pl...</td>\n",
       "      <td>9</td>\n",
       "    </tr>\n",
       "    <tr>\n",
       "      <th>4</th>\n",
       "      <td>丰田(进口) 卡罗拉cross(进口)</td>\n",
       "      <td>丰田(进口)$$$none$$$none###丰田$$$none$$$none###卡罗拉c...</td>\n",
       "      <td>9</td>\n",
       "    </tr>\n",
       "    <tr>\n",
       "      <th>...</th>\n",
       "      <td>...</td>\n",
       "      <td>...</td>\n",
       "      <td>...</td>\n",
       "    </tr>\n",
       "    <tr>\n",
       "      <th>69734</th>\n",
       "      <td>御捷新能源朋克汽车</td>\n",
       "      <td>none$$$none$$$none###none$$$none$$$none###御捷e驰...</td>\n",
       "      <td>7</td>\n",
       "    </tr>\n",
       "    <tr>\n",
       "      <th>69735</th>\n",
       "      <td>日产天籁jk</td>\n",
       "      <td>none$$$none$$$none###日产$$$none$$$none###天籁$$$n...</td>\n",
       "      <td>15</td>\n",
       "    </tr>\n",
       "    <tr>\n",
       "      <th>69736</th>\n",
       "      <td>梅赛德斯-amg 奔驰c级amg</td>\n",
       "      <td>none$$$none$$$none###奔驰$$$none$$$none###奔驰c级am...</td>\n",
       "      <td>9</td>\n",
       "    </tr>\n",
       "    <tr>\n",
       "      <th>69737</th>\n",
       "      <td>a6l40加装电尾门多少钱</td>\n",
       "      <td>none$$$none$$$none###none$$$none$$$none###奥迪a6...</td>\n",
       "      <td>32</td>\n",
       "    </tr>\n",
       "    <tr>\n",
       "      <th>69738</th>\n",
       "      <td>英菲尼迪q60 英菲尼迪(进口)</td>\n",
       "      <td>none$$$none$$$none###英菲尼迪$$$none$$$none###英菲尼迪...</td>\n",
       "      <td>9</td>\n",
       "    </tr>\n",
       "  </tbody>\n",
       "</table>\n",
       "<p>69739 rows × 3 columns</p>\n",
       "</div>"
      ],
      "text/plain": [
       "                     query                                             entity  \\\n",
       "0                巡洋舰和宋plus  none$$$none$$$none###none$$$none$$$none###兰德酷路...   \n",
       "1                    dctk3  none$$$none$$$none###none$$$none$$$none###none...   \n",
       "2           530 v6teramont  none$$$none$$$none###none$$$none$$$none###none...   \n",
       "3             瑞虎7 plus奇瑞汽车  奇瑞汽车$$$none$$$none###奇瑞$$$none$$$none###瑞虎7 pl...   \n",
       "4      丰田(进口) 卡罗拉cross(进口)  丰田(进口)$$$none$$$none###丰田$$$none$$$none###卡罗拉c...   \n",
       "...                    ...                                                ...   \n",
       "69734            御捷新能源朋克汽车  none$$$none$$$none###none$$$none$$$none###御捷e驰...   \n",
       "69735               日产天籁jk  none$$$none$$$none###日产$$$none$$$none###天籁$$$n...   \n",
       "69736     梅赛德斯-amg 奔驰c级amg  none$$$none$$$none###奔驰$$$none$$$none###奔驰c级am...   \n",
       "69737        a6l40加装电尾门多少钱  none$$$none$$$none###none$$$none$$$none###奥迪a6...   \n",
       "69738     英菲尼迪q60 英菲尼迪(进口)  none$$$none$$$none###英菲尼迪$$$none$$$none###英菲尼迪...   \n",
       "\n",
       "      label  \n",
       "0        16  \n",
       "1        15  \n",
       "2        15  \n",
       "3         9  \n",
       "4         9  \n",
       "...     ...  \n",
       "69734     7  \n",
       "69735    15  \n",
       "69736     9  \n",
       "69737    32  \n",
       "69738     9  \n",
       "\n",
       "[69739 rows x 3 columns]"
      ]
     },
     "execution_count": 7,
     "metadata": {},
     "output_type": "execute_result"
    }
   ],
   "source": [
    "df"
   ]
  },
  {
   "cell_type": "code",
   "execution_count": 17,
   "metadata": {},
   "outputs": [],
   "source": [
    "\n",
    "def data_str(x):\n",
    "    if x.count('none')==3:\n",
    "        return 'none'\n",
    "    else:\n",
    "        str_list = [item for item in x.split('$$$') if item !='none']\n",
    "        final_str = '[unused12]'.join(str_list)\n",
    "        return final_str\n",
    "df['tmp0'] = tmp_df[0].apply(data_str)\n",
    "df['tmp1'] = tmp_df[1].apply(data_str)\n",
    "df['tmp2'] = tmp_df[2].apply(data_str)\n",
    "df['tmp3'] = tmp_df[3].apply(data_str)\n",
    "df['res2'] = df['query']+'[SEP]'+df['tmp0']+'[unused11]'+df['tmp1']+'[unused11]'+df['tmp2']+'[unused11]'+df['tmp3']\n",
    "df[['res2','label']].to_csv('entity/test_entity_0818_combine.txt',index=None,header=None,sep='\\t')\n"
   ]
  },
  {
   "cell_type": "code",
   "execution_count": null,
   "metadata": {},
   "outputs": [],
   "source": [
    "tmp_df_1 = tmp_df[0].apply(data_str)"
   ]
  }
 ],
 "metadata": {
  "kernelspec": {
   "display_name": "Python 3.9.7 ('base')",
   "language": "python",
   "name": "python3"
  },
  "language_info": {
   "codemirror_mode": {
    "name": "ipython",
    "version": 3
   },
   "file_extension": ".py",
   "mimetype": "text/x-python",
   "name": "python",
   "nbconvert_exporter": "python",
   "pygments_lexer": "ipython3",
   "version": "3.9.7"
  },
  "orig_nbformat": 4,
  "vscode": {
   "interpreter": {
    "hash": "b5285c61a61f0b65dde91df426e951c3cab3c367d1a557c3156ee602ba43af0f"
   }
  }
 },
 "nbformat": 4,
 "nbformat_minor": 2
}
